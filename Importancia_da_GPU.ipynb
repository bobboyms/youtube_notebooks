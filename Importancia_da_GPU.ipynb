{
 "cells": [
  {
   "cell_type": "markdown",
   "metadata": {},
   "source": [
    "## 🎓 **Importância da GPU no treinamento de redes neurais**\n",
    "- 🚀 O uso de uma GPU pode acelerar o treinamento de uma rede neural em até 10 vezes\n",
    "- 🧠 As redes neurais são compostas de uma rede de neurônios artificiais, cada um dos quais executa uma operação matemática simples. O treinamento de uma rede neural envolve ajustar os pesos desses neurônios para que a rede possa aprender a realizar uma tarefa específica.\n",
    "\n",
    "## 🛠 **Entendendo as GPU**\n",
    "- 🎮 Originalmente, as GPUs foram projetadas para acelerar a renderização gráfica em jogos e aplicações visuais.\n",
    "- 📈 Por volta de 2007/2008, as capacidades das GPUs foram estendidas para computação científica, graças ao CUDA (Compute Unified Device Architecture)\n",
    "- 📊 As GPUs são usadas junto com uma CPU para agilizar o trabalho de operações numericamente intensivas.\n",
    "\n",
    "### 🤔 **GPU vs CPU**\n",
    "\n",
    "#### : 🖥 CPU:\n",
    "- Execução serial (executa operações uma após a outra)\n",
    "- CPU carrega valores da memória, realiza um cálculo com base nos valores e armazena o resultado de cada cálculo na memória.\n",
    "- O acesso à memória é lento em comparação com a velocidade de cálculo e pode limitar a capacidade total das CPUs.\n",
    "- Possui no máximo dezenas de CORES.\n",
    "\n",
    "#### 🎮 GPU\n",
    "- Execução paralela, pode executar milhares de multiplicações e adições simultaneamente\n",
    "- GPU moderna geralmente milhares de CORES (ALUs - Unidades lógicas aritméticas)\n",
    "\n",
    "![](https://researchcomputing.princeton.edu/sites/g/files/toruqf311/files/styles/freeform_750w/public/2021-11/gpu_as_accelerator_to_cpu_diagram.png?itok=q0YaEuYH)\n",
    "\n",
    "A relação entre GPU e CPU:\n",
    "\n",
    "1. **Transferência de Dados:** O CPU envia dados da memória RAM para a GPU processar.\n",
    "2. **Instruções:** O CPU dita à GPU como os dados devem ser processados.\n",
    "3. **Administração de Memória:** A GPU tem sua própria memória (VRAM), mas o CPU coordena o envio de dados para ela.\n",
    "4. **Coordenação de Recursos:** O CPU organiza os recursos do sistema, garantindo que a GPU opere corretamente juntamente com outros componentes.\n",
    "\n",
    "### 🔢 **Número de núcleos *GPU vs CPU***\n",
    "- 🎮 **GPU**: GeForce RTX 4090 (16,384 CUDA cores and 24GB of memory)\n",
    "- 🖥 **CPU:**: AMD Ryzen Threadripper Pro 5995WX (64 cores)\n",
    "\n",
    "### 📝 **Consideração importante**\n",
    "\n",
    "📌 A eficiência de uma GPU é melhor aproveitada quando ela tem um grande volume de dados para processar. Isso ocorre porque uma GPU é projetada para realizar muitas operações simples e paralelas ao mesmo tempo. Se a tarefa é muito pequena ou simples, então a GPU pode não ter oportunidade de usar todos os seus núcleos de forma eficiente.\n",
    "\n",
    "📌 Além disso, se a quantidade de dados for pequena, o tempo gasto para transferir esses dados da CPU para a GPU e vice-versa pode ser mais significativo em comparação com o tempo realmente gasto no processamento, tornando a operação menos eficiente do que se tivesse sido realizada apenas na CPU.\n",
    "\n",
    "📌 Portanto, para tarefas com grandes volumes de dados que podem ser processados em paralelo, as GPUs são geralmente muito mais rápidas do que as CPUs. Para tarefas menores e menos paralelizáveis, a CPU pode ser mais eficiente."
   ]
  },
  {
   "cell_type": "markdown",
   "metadata": {},
   "source": [
    "### **Exemplo prático**"
   ]
  },
  {
   "cell_type": "code",
   "execution_count": null,
   "metadata": {},
   "outputs": [],
   "source": [
    "%pip install torch torchvision torchaudio --quiet"
   ]
  },
  {
   "cell_type": "code",
   "execution_count": 9,
   "metadata": {},
   "outputs": [],
   "source": [
    "import torch\n",
    "if torch.backends.mps.is_available():\n",
    "    mps_device = torch.device(\"mps\")\n",
    "else:\n",
    "    raise Exception(\"GPU not found\")"
   ]
  },
  {
   "cell_type": "code",
   "execution_count": 10,
   "metadata": {},
   "outputs": [
    {
     "data": {
      "text/plain": [
       "device(type='mps')"
      ]
     },
     "execution_count": 10,
     "metadata": {},
     "output_type": "execute_result"
    }
   ],
   "source": [
    "mps_device"
   ]
  },
  {
   "cell_type": "markdown",
   "metadata": {},
   "source": [
    "#### Operação com matrix grandes"
   ]
  },
  {
   "cell_type": "code",
   "execution_count": 11,
   "metadata": {},
   "outputs": [
    {
     "name": "stdout",
     "output_type": "stream",
     "text": [
      "Tempo de execução: 33.03488802909851 segundos\n"
     ]
    }
   ],
   "source": [
    "import torch\n",
    "import time\n",
    "\n",
    "start_time = time.time()\n",
    "\n",
    "for i in range(100):\n",
    "    x = torch.rand(7000,3000, device=mps_device)\n",
    "    y = torch.rand(7000,3000, device=mps_device)\n",
    "\n",
    "    r = x @ y.T\n",
    "    r.sum()\n",
    "\n",
    "end_time = time.time()\n",
    "elapsed_time = end_time - start_time\n",
    "\n",
    "print(f\"Tempo de execução: {elapsed_time} segundos\")"
   ]
  },
  {
   "cell_type": "code",
   "execution_count": 12,
   "metadata": {},
   "outputs": [
    {
     "name": "stdout",
     "output_type": "stream",
     "text": [
      "Tempo de execução: 53.21458578109741 segundos\n"
     ]
    }
   ],
   "source": [
    "import torch\n",
    "import time\n",
    "\n",
    "start_time = time.time()\n",
    "\n",
    "for i in range(100):\n",
    "    x = torch.rand(7000,3000)\n",
    "    y = torch.rand(7000,3000)\n",
    "\n",
    "    r = x @ y.T\n",
    "    r.sum()\n",
    "\n",
    "end_time = time.time()\n",
    "elapsed_time = end_time - start_time\n",
    "\n",
    "print(f\"Tempo de execução: {elapsed_time} segundos\")"
   ]
  },
  {
   "cell_type": "markdown",
   "metadata": {},
   "source": [
    "#### Operação com tensores pequenos"
   ]
  },
  {
   "cell_type": "code",
   "execution_count": 13,
   "metadata": {},
   "outputs": [
    {
     "name": "stdout",
     "output_type": "stream",
     "text": [
      "Tempo de execução: 0.09651398658752441 segundos\n"
     ]
    }
   ],
   "source": [
    "import torch\n",
    "import time\n",
    "\n",
    "start_time = time.time()\n",
    "\n",
    "for i in range(100):\n",
    "    x = torch.rand(70,30, device=mps_device)\n",
    "    y = torch.rand(70,30, device=mps_device)\n",
    "\n",
    "    r = x @ y.T\n",
    "    r.sum()\n",
    "\n",
    "end_time = time.time()\n",
    "elapsed_time = end_time - start_time\n",
    "\n",
    "print(f\"Tempo de execução: {elapsed_time} segundos\")"
   ]
  },
  {
   "cell_type": "code",
   "execution_count": 14,
   "metadata": {},
   "outputs": [
    {
     "name": "stdout",
     "output_type": "stream",
     "text": [
      "Tempo de execução: 0.00587916374206543 segundos\n"
     ]
    }
   ],
   "source": [
    "import torch\n",
    "import time\n",
    "\n",
    "start_time = time.time()\n",
    "\n",
    "for i in range(100):\n",
    "    x = torch.rand(70,30)\n",
    "    y = torch.rand(70,30)\n",
    "\n",
    "    r = x @ y.T\n",
    "    r.sum()\n",
    "\n",
    "end_time = time.time()\n",
    "elapsed_time = end_time - start_time\n",
    "\n",
    "print(f\"Tempo de execução: {elapsed_time} segundos\")"
   ]
  },
  {
   "cell_type": "markdown",
   "metadata": {},
   "source": [
    "### 📚 **Bibliotecas de desenvolvimento para GPU**\n",
    "- **CUDA** (NVIDEA)\n",
    "- **Metal** (Apple)\n",
    "- **ROCm** (AMD)\n",
    "\n",
    "### **Unidade de processamento de tensores - TPU**\n",
    "- TPUs como um processador de matriz especializado em cargas de trabalho de redes neurais.\n",
    "- Em vez de fazer cálculos simples, como somar ou subtrair, ela é projetada para fazer muitas multiplicações de uma vez.\n",
    "- Elas podem processar operações de matriz maciça, usadas em redes neurais em velocidades rápidas.\n",
    "- O ecossistema é mais limitado, embora TensorFlow e alguns outros frameworks suportem TPUs.\n",
    "## **Quando escolher entre CPU, GPU e TPU**\n",
    "\n",
    "A escolha entre CPU, GPU e TPU para treinar uma rede neural depende de vários fatores, incluindo o tamanho e a complexidade do modelo, a quantidade de dados, o orçamento, o tempo disponível e as especificidades da tarefa. Vamos discutir os cenários em que cada um deles seria apropriado:\n",
    "\n",
    "- **CPU:** Para modelos pequenos, prototipagem rápida, ou quando você está apenas começando\n",
    "- **GPU:** Para treinamento de redes neurais de médio a grande porte.\n",
    "- **TPU:** Para treinamento de redes neurais de grande escala, como modelos de linguagem com bilhões de parâmetros."
   ]
  },
  {
   "cell_type": "markdown",
   "metadata": {},
   "source": [
    "## Referências\n",
    "\n",
    "- https://researchcomputing.princeton.edu/support/knowledge-base/gpu-computing\n",
    "- https://cloud.google.com/tpu/docs/intro-to-tpu?hl=pt-br"
   ]
  }
 ],
 "metadata": {
  "kernelspec": {
   "display_name": "Python 3",
   "language": "python",
   "name": "python3"
  },
  "language_info": {
   "codemirror_mode": {
    "name": "ipython",
    "version": 3
   },
   "file_extension": ".py",
   "mimetype": "text/x-python",
   "name": "python",
   "nbconvert_exporter": "python",
   "pygments_lexer": "ipython3",
   "version": "3.0.0"
  },
  "orig_nbformat": 4
 },
 "nbformat": 4,
 "nbformat_minor": 2
}
